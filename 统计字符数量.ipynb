{
 "cells": [
  {
   "cell_type": "code",
   "execution_count": 50,
   "id": "42340447",
   "metadata": {},
   "outputs": [
    {
     "name": "stdout",
     "output_type": "stream",
     "text": [
      "<class '_io.TextIOWrapper'>\n"
     ]
    },
    {
     "data": {
      "text/plain": [
       "52002"
      ]
     },
     "execution_count": 50,
     "metadata": {},
     "output_type": "execute_result"
    }
   ],
   "source": [
    "import json\n",
    "# 读取json并解析\n",
    "with open('alpaca_data.json','r',encoding = 'utf-8') as fp:\n",
    "    print(type(fp))  #输出结果是 <class '_io.TextIOWrapper'> 一个文件类对象\n",
    "    # load()函数将fp(一个支持.read()的文件类对象，包含一个JSON文档)反序列化为一个Python对象\n",
    "    data = json.load(fp)\n",
    "len(data)"
   ]
  },
  {
   "cell_type": "code",
   "execution_count": 51,
   "id": "e74717e7",
   "metadata": {},
   "outputs": [],
   "source": [
    "def getLength(data):\n",
    "    Length = 0\n",
    "    i = 0\n",
    "    while i<len(data):\n",
    "        query = data[i]\n",
    "        q_instru = query['instruction']\n",
    "        q_output = query['output']\n",
    "        length = len(q_instru) + len(q_output)\n",
    "        Length += length\n",
    "        i += 1\n",
    "    return Length"
   ]
  },
  {
   "cell_type": "code",
   "execution_count": 52,
   "id": "b92c781e",
   "metadata": {},
   "outputs": [
    {
     "name": "stdout",
     "output_type": "stream",
     "text": [
      "当前下标: 3252\n",
      "当前分段字符数量： 990280\n",
      "当前切分字符数量： 990280\n",
      "当前下标: 6382\n",
      "当前分段字符数量： 990076\n",
      "当前切分字符数量： 990076\n",
      "当前下标: 9407\n",
      "当前分段字符数量： 990361\n",
      "当前切分字符数量： 990361\n",
      "当前下标: 12345\n",
      "当前分段字符数量： 990581\n",
      "当前切分字符数量： 990581\n",
      "当前下标: 15323\n",
      "当前分段字符数量： 990502\n",
      "当前切分字符数量： 990502\n",
      "当前下标: 18280\n",
      "当前分段字符数量： 990246\n",
      "当前切分字符数量： 990246\n",
      "当前下标: 21320\n",
      "当前分段字符数量： 990274\n",
      "当前切分字符数量： 990274\n",
      "当前下标: 24319\n",
      "当前分段字符数量： 990090\n",
      "当前切分字符数量： 990090\n",
      "当前下标: 27270\n",
      "当前分段字符数量： 990167\n",
      "当前切分字符数量： 990167\n",
      "当前下标: 30186\n",
      "当前分段字符数量： 990247\n",
      "当前切分字符数量： 990247\n",
      "当前下标: 33190\n",
      "当前分段字符数量： 990251\n",
      "当前切分字符数量： 990251\n",
      "当前下标: 36122\n",
      "当前分段字符数量： 990148\n",
      "当前切分字符数量： 990148\n",
      "当前下标: 39162\n",
      "当前分段字符数量： 990328\n",
      "当前切分字符数量： 990328\n",
      "当前下标: 42148\n",
      "当前分段字符数量： 990728\n",
      "当前切分字符数量： 990728\n",
      "当前下标: 45095\n",
      "当前分段字符数量： 990119\n",
      "当前切分字符数量： 990119\n",
      "当前下标: 48066\n",
      "当前分段字符数量： 990431\n",
      "当前切分字符数量： 990431\n",
      "当前下标: 51009\n",
      "当前分段字符数量： 990034\n",
      "当前切分字符数量： 990034\n",
      "当前下标: 52002\n",
      "当前分段字符数量： 330534\n",
      "当前切分字符数量： 330534\n"
     ]
    }
   ],
   "source": [
    "Length = 0\n",
    "i,j = 0,0\n",
    "while i<len(data):\n",
    "    while Length<=990000 and j<len(data):\n",
    "        query = data[j]\n",
    "        q_instru = query['instruction']\n",
    "        q_output = query['output']\n",
    "        length = len(q_instru) + len(q_output)\n",
    "        Length += length\n",
    "        j +=1\n",
    "    print(\"当前下标:\",j)\n",
    "    print('当前分段字符数量：',Length)\n",
    "    temp = data[i:j]\n",
    "    L = getLength(temp)\n",
    "    print('当前切分字符数量：',L)\n",
    "    filename = 'data/alpaca_data-'+str(i)+'-'+str(j)+'-英文.json'\n",
    "    with open(filename, 'w') as fp:\n",
    "         json.dump(temp, fp)\n",
    "    i = j\n",
    "    Length = 0\n",
    "    if j==len(data):\n",
    "        break"
   ]
  },
  {
   "cell_type": "code",
   "execution_count": null,
   "id": "d533c2fe",
   "metadata": {},
   "outputs": [],
   "source": []
  }
 ],
 "metadata": {
  "kernelspec": {
   "display_name": "Python 3 (ipykernel)",
   "language": "python",
   "name": "python3"
  },
  "language_info": {
   "codemirror_mode": {
    "name": "ipython",
    "version": 3
   },
   "file_extension": ".py",
   "mimetype": "text/x-python",
   "name": "python",
   "nbconvert_exporter": "python",
   "pygments_lexer": "ipython3",
   "version": "3.9.13"
  }
 },
 "nbformat": 4,
 "nbformat_minor": 5
}
