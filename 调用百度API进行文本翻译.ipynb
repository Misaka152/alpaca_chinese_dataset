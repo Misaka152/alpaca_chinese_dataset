{
 "cells": [
  {
   "cell_type": "code",
   "execution_count": 22,
   "id": "fa84b55f",
   "metadata": {},
   "outputs": [],
   "source": [
    "import random\n",
    "import hashlib\n",
    "import urllib\n",
    "import http\n",
    "import json"
   ]
  },
  {
   "cell_type": "code",
   "execution_count": 25,
   "id": "c622147d",
   "metadata": {},
   "outputs": [],
   "source": [
    "def baiduTranslate(translate_text, flag=1):\n",
    "    '''\n",
    "    :param translate_text: 待翻译的句子，len(q)<2000\n",
    "    :param flag: 1:原句子翻译成英文；0:原句子翻译成中文\n",
    "    :return: 返回翻译结果。\n",
    "    For example:\n",
    "    q=我今天好开心啊！\n",
    "    result = {'from': 'zh', 'to': 'en', 'trans_result': [{'src': '我今天好开心啊！', 'dst': \"I'm so happy today!\"}]}\n",
    "    '''\n",
    "    appid = '你的id'  # 填写你的appid\n",
    "    secretKey = '你的密钥'  # 填写你的密钥\n",
    "    httpClient = None\n",
    "    myurl = '/api/trans/vip/translate'  # 通用翻译API HTTP地址\n",
    "    fromLang = 'auto'  # 原文语种\n",
    "\n",
    "    if flag:\n",
    "        toLang = 'en'  # 译文语种\n",
    "    else:\n",
    "        toLang = 'zh'  # 译文语种\n",
    "\n",
    "    salt = random.randint(3276, 65536)\n",
    "\n",
    "    sign = appid + translate_text + str(salt) + secretKey\n",
    "    sign = hashlib.md5(sign.encode()).hexdigest()\n",
    "    myurl = myurl + '?appid=' + appid + '&q=' + urllib.parse.quote(translate_text) + '&from=' + fromLang + \\\n",
    "            '&to=' + toLang + '&salt=' + str(salt) + '&sign=' + sign\n",
    "\n",
    "    # 建立会话，返回结果\n",
    "    try:\n",
    "        httpClient = http.client.HTTPConnection('api.fanyi.baidu.com')\n",
    "        httpClient.request('GET', myurl)\n",
    "        # response是HTTPResponse对象\n",
    "        response = httpClient.getresponse()\n",
    "        result_all = response.read().decode(\"utf-8\")\n",
    "        result = json.loads(result_all)\n",
    "        #print(result)\n",
    "\n",
    "        # return result\n",
    "        return result['trans_result'][0]['dst']\n",
    "\n",
    "    except Exception as e:\n",
    "        print(e)\n",
    "    finally:\n",
    "        if httpClient:\n",
    "            httpClient.close()"
   ]
  },
  {
   "cell_type": "code",
   "execution_count": 26,
   "id": "019113fb",
   "metadata": {},
   "outputs": [
    {
     "name": "stdout",
     "output_type": "stream",
     "text": [
      "原句:介绍一下整本书，比如是传主的人生，或者作者写这本书的特色。可参看目录、序言或简介等资料。\n",
      "Introduce the entire book, such as the life of the biographer, or the characteristics of the author's writing of this book. Please refer to the catalog, preface, or introduction.\n"
     ]
    }
   ],
   "source": [
    "if __name__ == '__main__':\n",
    "    # 手动录入翻译内容，q存放\n",
    "    # q = raw_input(\"please input the word you want to translate:\")\n",
    "    q = \"介绍一下整本书，比如是传主的人生，或者作者写这本书的特色。可参看目录、序言或简介等资料。\"\n",
    "    '''\n",
    "    flag=1 输入的句子翻译成英文\n",
    "    flag=0 输入的句子翻译成中文\n",
    "    '''\n",
    "    result = baiduTranslate(q, flag=1)  # 百度翻译\n",
    "    print(\"原句:\"+q)\n",
    "    print(result)"
   ]
  },
  {
   "cell_type": "code",
   "execution_count": 28,
   "id": "f55f0f4e",
   "metadata": {},
   "outputs": [
    {
     "name": "stdout",
     "output_type": "stream",
     "text": [
      "<class '_io.TextIOWrapper'>\n"
     ]
    },
    {
     "data": {
      "text/plain": [
       "52002"
      ]
     },
     "execution_count": 28,
     "metadata": {},
     "output_type": "execute_result"
    }
   ],
   "source": [
    "# 读取json并解析\n",
    "with open('alpaca_data.json','r',encoding = 'utf-8') as fp:\n",
    "    print(type(fp))  #输出结果是 <class '_io.TextIOWrapper'> 一个文件类对象\n",
    "    # load()函数将fp(一个支持.read()的文件类对象，包含一个JSON文档)反序列化为一个Python对象\n",
    "    data = json.load(fp)\n",
    "len(data)"
   ]
  },
  {
   "cell_type": "code",
   "execution_count": 30,
   "id": "c4c927f1",
   "metadata": {},
   "outputs": [],
   "source": [
    "Translet_data = []"
   ]
  },
  {
   "cell_type": "code",
   "execution_count": 32,
   "id": "200a41db",
   "metadata": {},
   "outputs": [],
   "source": [
    "for i in range(0,100):\n",
    "    temp = {}\n",
    "    query = data[i]\n",
    "    q_instru = query['instruction']\n",
    "    q_output = query['output']\n",
    "    r_instru = baiduTranslate(q_instru, flag=0)\n",
    "    r_output = baiduTranslate(q_output, flag=0)\n",
    "    temp['instruction'] = r_instru\n",
    "    temp['output'] = r_output\n",
    "    Translet_data.append(temp)"
   ]
  },
  {
   "cell_type": "code",
   "execution_count": 34,
   "id": "73a85033",
   "metadata": {},
   "outputs": [
    {
     "name": "stdout",
     "output_type": "stream",
     "text": [
      "'trans_result'\n"
     ]
    }
   ],
   "source": [
    "for i in range(100,300):\n",
    "    temp = {}\n",
    "    query = data[i]\n",
    "    q_instru = query['instruction']\n",
    "    q_output = query['output']\n",
    "    r_instru = baiduTranslate(q_instru, flag=0)\n",
    "    r_output = baiduTranslate(q_output, flag=0)\n",
    "    temp['instruction'] = r_instru\n",
    "    temp['output'] = r_output\n",
    "    Translet_data.append(temp)"
   ]
  },
  {
   "cell_type": "code",
   "execution_count": 38,
   "id": "57931004",
   "metadata": {},
   "outputs": [
    {
     "name": "stdout",
     "output_type": "stream",
     "text": [
      "'trans_result'\n",
      "'trans_result'\n",
      "'trans_result'\n"
     ]
    }
   ],
   "source": [
    "for i in range(300,3000):\n",
    "    temp = {}\n",
    "    query = data[i]\n",
    "    q_instru = query['instruction']\n",
    "    q_output = query['output']\n",
    "    r_instru = baiduTranslate(q_instru, flag=0)\n",
    "    r_output = baiduTranslate(q_output, flag=0)\n",
    "    temp['instruction'] = r_instru\n",
    "    temp['output'] = r_output\n",
    "    Translet_data.append(temp)"
   ]
  },
  {
   "cell_type": "code",
   "execution_count": 40,
   "id": "51597372",
   "metadata": {},
   "outputs": [],
   "source": [
    "for i in range(3000,3252):\n",
    "    temp = {}\n",
    "    query = data[i]\n",
    "    q_instru = query['instruction']\n",
    "    q_output = query['output']\n",
    "    r_instru = baiduTranslate(q_instru, flag=0)\n",
    "    r_output = baiduTranslate(q_output, flag=0)\n",
    "    temp['instruction'] = r_instru\n",
    "    temp['output'] = r_output\n",
    "    Translet_data.append(temp)"
   ]
  },
  {
   "cell_type": "code",
   "execution_count": 41,
   "id": "8e918d35",
   "metadata": {},
   "outputs": [
    {
     "data": {
      "text/plain": [
       "3252"
      ]
     },
     "execution_count": 41,
     "metadata": {},
     "output_type": "execute_result"
    }
   ],
   "source": [
    "len(Translet_data)"
   ]
  },
  {
   "cell_type": "code",
   "execution_count": 42,
   "id": "26d7b55e",
   "metadata": {},
   "outputs": [
    {
     "data": {
      "text/plain": [
       "{'instruction': '发表一篇反对使用核能的演讲。',\n",
       " 'output': '核能被认为是解决我们能源需求的一种可能方案，但它是一种危险、不可靠和昂贵的解决方案。核能具有核事故的风险，这些事故已经在俄罗斯和日本造成了灾难性的破坏，并可能对几代人产生持久的后果。核能也极其昂贵，需要为其生产和维护分配数十亿的资本。最后，核废料可能在数千年内保持危险，需要广泛的缓解措施，以确保辐射不会意外污染我们的生物圈。简言之，有更高效、更安全的方式来生产我们所需的能源，使核能变得不必要和危险。'}"
      ]
     },
     "execution_count": 42,
     "metadata": {},
     "output_type": "execute_result"
    }
   ],
   "source": [
    "Translet_data[-1]"
   ]
  },
  {
   "cell_type": "code",
   "execution_count": 43,
   "id": "5d91e7ef",
   "metadata": {},
   "outputs": [],
   "source": [
    "# 保存为json文件\n",
    "filename = 'alpaca_data-0-3252-中文.json'\n",
    "with open(filename, 'w') as fp:\n",
    "     json.dump(Translet_data, fp)"
   ]
  },
  {
   "cell_type": "code",
   "execution_count": null,
   "id": "c0b8db9d",
   "metadata": {},
   "outputs": [],
   "source": []
  }
 ],
 "metadata": {
  "kernelspec": {
   "display_name": "Python 3 (ipykernel)",
   "language": "python",
   "name": "python3"
  },
  "language_info": {
   "codemirror_mode": {
    "name": "ipython",
    "version": 3
   },
   "file_extension": ".py",
   "mimetype": "text/x-python",
   "name": "python",
   "nbconvert_exporter": "python",
   "pygments_lexer": "ipython3",
   "version": "3.9.13"
  }
 },
 "nbformat": 4,
 "nbformat_minor": 5
}
